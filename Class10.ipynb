{
 "cells": [
  {
   "cell_type": "code",
   "execution_count": 1,
   "id": "1c955bf3-b6dc-4fa4-9875-b66d67a06920",
   "metadata": {},
   "outputs": [],
   "source": [
    "set1 = {1, 3, 5, 7, 9, 11}\n",
    "set2 = {1, 4, 7, 10}"
   ]
  },
  {
   "cell_type": "code",
   "execution_count": null,
   "id": "7488692a-6d60-4da8-8a67-1606c94ef391",
   "metadata": {},
   "outputs": [],
   "source": [
    "set1.intersection(set2)"
   ]
  }
 ],
 "metadata": {
  "kernelspec": {
   "display_name": "Python 3 (ipykernel)",
   "language": "python",
   "name": "python3"
  },
  "language_info": {
   "codemirror_mode": {
    "name": "ipython",
    "version": 3
   },
   "file_extension": ".py",
   "mimetype": "text/x-python",
   "name": "python",
   "nbconvert_exporter": "python",
   "pygments_lexer": "ipython3",
   "version": "3.9.12"
  }
 },
 "nbformat": 4,
 "nbformat_minor": 5
}
