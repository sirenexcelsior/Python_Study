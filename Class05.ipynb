{
 "cells": [
  {
   "cell_type": "code",
   "execution_count": 1,
   "id": "6f575a20-5568-4986-9079-5c5eefb33fe9",
   "metadata": {},
   "outputs": [
    {
     "name": "stdout",
     "output_type": "stream",
     "text": [
      "[180, 167, 184, 171, 153]\n",
      "<class 'list'>\n"
     ]
    }
   ],
   "source": [
    "# Список\n",
    "h = [180, 167, 184, 171, 153]\n",
    "print(h)\n",
    "print(type(h))"
   ]
  },
  {
   "cell_type": "code",
   "execution_count": 2,
   "id": "290a94eb-1bb8-4dcf-9c84-d9c6ab2672fc",
   "metadata": {},
   "outputs": [
    {
     "name": "stdout",
     "output_type": "stream",
     "text": [
      "184\n",
      "167\n",
      "180\n"
     ]
    }
   ],
   "source": [
    "print(h[2])\n",
    "print(h[1])\n",
    "print(h[0])"
   ]
  },
  {
   "cell_type": "code",
   "execution_count": 3,
   "id": "f09fde0b-4826-4b66-826f-b854aef3f2ff",
   "metadata": {},
   "outputs": [
    {
     "name": "stdout",
     "output_type": "stream",
     "text": [
      "[1.8, 167, 184, 171, 153]\n",
      "[1.8, 1.67, 184, 171, 153]\n",
      "[1.8, 1.67, 1.84, 171, 153]\n",
      "[1.8, 1.67, 1.84, 1.71, 153]\n",
      "[1.8, 1.67, 1.84, 1.71, 1.53]\n"
     ]
    }
   ],
   "source": [
    "i = 0\n",
    "while i < 5:\n",
    "    h[i] /= 100\n",
    "    i += 1\n",
    "    print(h)"
   ]
  },
  {
   "cell_type": "code",
   "execution_count": 4,
   "id": "1b0d3eb8-54e4-4760-b157-be4a03ff9617",
   "metadata": {},
   "outputs": [
    {
     "data": {
      "text/plain": [
       "5"
      ]
     },
     "execution_count": 4,
     "metadata": {},
     "output_type": "execute_result"
    }
   ],
   "source": [
    "len(h)"
   ]
  },
  {
   "cell_type": "code",
   "execution_count": 5,
   "id": "a20f319d-6487-4d92-a551-1cf0e60981a0",
   "metadata": {},
   "outputs": [
    {
     "name": "stdout",
     "output_type": "stream",
     "text": [
      "[1.8, 1.67, 1.84, 1.71, 1.53]\n"
     ]
    }
   ],
   "source": [
    "# Цикл for\n",
    "\n",
    "h = [180, 167, 184, 171, 153]\n",
    "\n",
    "i = 0\n",
    "while i < len(h):\n",
    "    h[i] /= 100\n",
    "    i += 1\n",
    "print(h)"
   ]
  },
  {
   "cell_type": "code",
   "execution_count": 7,
   "id": "c8756a7c-3ee6-4621-b243-7469292906d9",
   "metadata": {},
   "outputs": [
    {
     "name": "stdout",
     "output_type": "stream",
     "text": [
      "[1.8, 167, 184, 171, 153]\n",
      "[1.8, 1.67, 184, 171, 153]\n",
      "[1.8, 1.67, 1.84, 171, 153]\n",
      "[1.8, 1.67, 1.84, 1.71, 153]\n",
      "[1.8, 1.67, 1.84, 1.71, 1.53]\n"
     ]
    }
   ],
   "source": [
    "h = [180, 167, 184, 171, 153]\n",
    "\n",
    "for i in range(0, len(h)): # range(0,len(h))\n",
    "    h[i] /= 100\n",
    "    print(h)"
   ]
  },
  {
   "cell_type": "code",
   "execution_count": 8,
   "id": "208e035c-425e-4c30-8c85-5384e517372d",
   "metadata": {},
   "outputs": [
    {
     "name": "stdout",
     "output_type": "stream",
     "text": [
      "0 1 2 3 4 5 6 7 8 9\n"
     ]
    }
   ],
   "source": [
    "print(*range(10))"
   ]
  },
  {
   "cell_type": "code",
   "execution_count": 10,
   "id": "b8a03979-cde2-4845-8091-de4f77047cff",
   "metadata": {},
   "outputs": [
    {
     "name": "stdout",
     "output_type": "stream",
     "text": [
      "1 2 3 4 5 6 7 8 9 10 11 12 13 14 15 16 17\n"
     ]
    }
   ],
   "source": [
    "print(*range(1, 18))"
   ]
  },
  {
   "cell_type": "code",
   "execution_count": 13,
   "id": "43cc3563-7d80-4f25-b045-a54aef16d12a",
   "metadata": {},
   "outputs": [
    {
     "name": "stdout",
     "output_type": "stream",
     "text": [
      "1 3 5 7 9\n"
     ]
    }
   ],
   "source": [
    "print(*range(1, 10, 2)) # (m, n, k) m,n范围, k增量"
   ]
  },
  {
   "cell_type": "code",
   "execution_count": 14,
   "id": "3f8f1d2b-d8ce-4c1e-9a63-29f665eec22f",
   "metadata": {},
   "outputs": [
    {
     "name": "stdout",
     "output_type": "stream",
     "text": [
      "180\n",
      "167\n",
      "184\n",
      "171\n",
      "153\n"
     ]
    }
   ],
   "source": [
    "h = [180, 167, 184, 171, 153]\n",
    "for i in h:\n",
    "    print(i)"
   ]
  },
  {
   "cell_type": "code",
   "execution_count": 15,
   "id": "db07880a-5716-4bc7-ac66-49f137b7325e",
   "metadata": {},
   "outputs": [],
   "source": [
    "# list可以包含所有类型的数据\n",
    "p = ['Имя', 170, 60, [5.8, 2.2, 43, 16.1]]"
   ]
  },
  {
   "cell_type": "code",
   "execution_count": 17,
   "id": "29cca32f-0109-4ff1-a023-dfc66253ac67",
   "metadata": {},
   "outputs": [
    {
     "name": "stdout",
     "output_type": "stream",
     "text": [
      "Имя\n",
      "2.2\n"
     ]
    }
   ],
   "source": [
    "print(p[0])\n",
    "print(p[3][1])"
   ]
  }
 ],
 "metadata": {
  "kernelspec": {
   "display_name": "Python 3 (ipykernel)",
   "language": "python",
   "name": "python3"
  },
  "language_info": {
   "codemirror_mode": {
    "name": "ipython",
    "version": 3
   },
   "file_extension": ".py",
   "mimetype": "text/x-python",
   "name": "python",
   "nbconvert_exporter": "python",
   "pygments_lexer": "ipython3",
   "version": "3.9.12"
  }
 },
 "nbformat": 4,
 "nbformat_minor": 5
}
