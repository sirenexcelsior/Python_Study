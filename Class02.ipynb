{
 "cells": [
  {
   "cell_type": "code",
   "execution_count": 1,
   "id": "3057b271-830c-4a17-b1f2-925134a57ec1",
   "metadata": {},
   "outputs": [],
   "source": [
    "# a = 1\n",
    "# b = 2\n",
    "# c = 3\n",
    "# 要一次注释掉jupyter笔记本中的几行，您需要选择这些行并按下键盘快捷键cmd + / 或 ctrl + /"
   ]
  },
  {
   "cell_type": "code",
   "execution_count": 2,
   "id": "501d48f7-67e6-400f-8779-3e40235634f3",
   "metadata": {},
   "outputs": [
    {
     "name": "stdout",
     "output_type": "stream",
     "text": [
      "МФК Python\n"
     ]
    }
   ],
   "source": [
    "# разбор задач 5 и 6\n",
    "# print int, str\n",
    "# вычисление с делением, float\n",
    "\n",
    "print(\"МФК Python\")"
   ]
  },
  {
   "cell_type": "code",
   "execution_count": 3,
   "id": "7bae82f6-9cab-4446-a39c-913b62382ae5",
   "metadata": {},
   "outputs": [
    {
     "name": "stdout",
     "output_type": "stream",
     "text": [
      "<class 'str'>\n"
     ]
    }
   ],
   "source": [
    "print(type('150'))"
   ]
  },
  {
   "cell_type": "code",
   "execution_count": 4,
   "id": "e0e50dc4-f64a-4e68-90c1-612234b72508",
   "metadata": {},
   "outputs": [
    {
     "name": "stdout",
     "output_type": "stream",
     "text": [
      "<class 'int'>\n"
     ]
    }
   ],
   "source": [
    "print(type(150))"
   ]
  },
  {
   "cell_type": "code",
   "execution_count": 5,
   "id": "0e8c9d0c-dfcf-4c5d-a627-f386d4d2e324",
   "metadata": {},
   "outputs": [
    {
     "name": "stdout",
     "output_type": "stream",
     "text": [
      "456\n"
     ]
    }
   ],
   "source": [
    "print(256*2-64+8)"
   ]
  },
  {
   "cell_type": "code",
   "execution_count": 6,
   "id": "a43b5bfc-1c15-4215-9d39-c6cb1c43d3c8",
   "metadata": {},
   "outputs": [
    {
     "data": {
      "text/plain": [
       "456"
      ]
     },
     "execution_count": 6,
     "metadata": {},
     "output_type": "execute_result"
    }
   ],
   "source": [
    "256*2-64+8"
   ]
  },
  {
   "cell_type": "code",
   "execution_count": 7,
   "id": "f3d9fa64-6ebd-4291-8cff-131461212e91",
   "metadata": {},
   "outputs": [
    {
     "name": "stdin",
     "output_type": "stream",
     "text": [
      "Your Name: Wang\n"
     ]
    },
    {
     "data": {
      "text/plain": [
       "'Wang'"
      ]
     },
     "execution_count": 7,
     "metadata": {},
     "output_type": "execute_result"
    }
   ],
   "source": [
    "input(\"Your Name:\")"
   ]
  },
  {
   "cell_type": "code",
   "execution_count": 9,
   "id": "6036e843-0b71-4efe-bd0e-68a57240df94",
   "metadata": {},
   "outputs": [
    {
     "name": "stdin",
     "output_type": "stream",
     "text": [
      "Ваше имя:  Саша\n"
     ]
    }
   ],
   "source": [
    "name = input(\"Ваше имя: \")"
   ]
  },
  {
   "cell_type": "code",
   "execution_count": 10,
   "id": "cf703e93-492d-4e6b-873d-0a5317e7d8f1",
   "metadata": {},
   "outputs": [
    {
     "name": "stdout",
     "output_type": "stream",
     "text": [
      "Саша\n"
     ]
    }
   ],
   "source": [
    "print(name)"
   ]
  },
  {
   "cell_type": "code",
   "execution_count": 11,
   "id": "42436ac9-0b23-4ff8-8999-dcdddb2ba601",
   "metadata": {},
   "outputs": [
    {
     "name": "stdout",
     "output_type": "stream",
     "text": [
      "Добрый день, Саша\n"
     ]
    }
   ],
   "source": [
    "print('Добрый день,', name)"
   ]
  },
  {
   "cell_type": "code",
   "execution_count": 12,
   "id": "9ed49bb4-8ece-475f-afa8-ac3c849fb51d",
   "metadata": {},
   "outputs": [
    {
     "name": "stdout",
     "output_type": "stream",
     "text": [
      "2 4 5 678 90 4568\n"
     ]
    }
   ],
   "source": [
    "print(2, 4, 5, 678, 90, 4568)"
   ]
  },
  {
   "cell_type": "code",
   "execution_count": 13,
   "id": "2620d55b-d37a-4ff7-8444-1aa82acc23e9",
   "metadata": {},
   "outputs": [
    {
     "name": "stdin",
     "output_type": "stream",
     "text": [
      " Саша\n"
     ]
    },
    {
     "name": "stdout",
     "output_type": "stream",
     "text": [
      "Добрый день, Саша\n"
     ]
    }
   ],
   "source": [
    "name = input()\n",
    "print('Добрый день,', name)"
   ]
  },
  {
   "cell_type": "code",
   "execution_count": 14,
   "id": "bef5bc72-0791-45c4-a604-19924c15ca0b",
   "metadata": {},
   "outputs": [
    {
     "name": "stdin",
     "output_type": "stream",
     "text": [
      " Саща\n",
      " Python\n"
     ]
    },
    {
     "name": "stdout",
     "output_type": "stream",
     "text": [
      "Добрый день Саща ! Добро пожаловать на МФК Python\n"
     ]
    }
   ],
   "source": [
    "name = input()\n",
    "course = input()\n",
    "print(\"Добрый день\", name, \"! Добро пожаловать на МФК\", course)"
   ]
  },
  {
   "cell_type": "code",
   "execution_count": 16,
   "id": "25467db4-36e2-4896-b261-472d9d8b736c",
   "metadata": {},
   "outputs": [
    {
     "name": "stdout",
     "output_type": "stream",
     "text": [
      "Добрый день, Саща! Добро пожаловать на МФК Python\n",
      "Добрый день, _Саща_! Добро пожаловать на МФК _Python\n",
      "Добрый день, @Саща@! Добро пожаловать на МФК @Python\n"
     ]
    }
   ],
   "source": [
    "print(\"Добрый день, \", name, \"! Добро пожаловать на МФК \", course, sep = '')\n",
    "print(\"Добрый день, \", name, \"! Добро пожаловать на МФК \", course, sep = '_')\n",
    "print(\"Добрый день, \", name, \"! Добро пожаловать на МФК \", course, sep = '@')\n",
    "# sep = '' 定义每一块用''连接，默认是空格"
   ]
  },
  {
   "cell_type": "code",
   "execution_count": 18,
   "id": "64c8fd15-9d7c-448a-a272-b79ecb6e9452",
   "metadata": {},
   "outputs": [
    {
     "name": "stdout",
     "output_type": "stream",
     "text": [
      "123\n"
     ]
    }
   ],
   "source": [
    "something = print(123)"
   ]
  },
  {
   "cell_type": "code",
   "execution_count": 20,
   "id": "b051e5c3-5f3f-47ab-a788-69c430bd1a93",
   "metadata": {},
   "outputs": [
    {
     "name": "stdout",
     "output_type": "stream",
     "text": [
      "None\n"
     ]
    }
   ],
   "source": [
    "print(something)\n",
    "# 函数的调用一定要加括号"
   ]
  },
  {
   "cell_type": "code",
   "execution_count": 21,
   "id": "38bd083a-7150-4506-a3c0-4d0ac8f24988",
   "metadata": {},
   "outputs": [
    {
     "name": "stdout",
     "output_type": "stream",
     "text": [
      "3 + 2 = 5\n"
     ]
    }
   ],
   "source": [
    "a = 3\n",
    "b = 2\n",
    "print(a, '+', b, '=', a + b)"
   ]
  },
  {
   "cell_type": "code",
   "execution_count": 23,
   "id": "2b1f87fa-637a-4b77-bdd2-f14f2b5bc0cb",
   "metadata": {},
   "outputs": [
    {
     "name": "stdout",
     "output_type": "stream",
     "text": [
      "3\n",
      "2\n"
     ]
    }
   ],
   "source": [
    "print(a, b, sep='\\n') # 换行符"
   ]
  },
  {
   "cell_type": "code",
   "execution_count": 24,
   "id": "ed1f0f9b-3208-40f4-8c96-9d67212545fd",
   "metadata": {},
   "outputs": [
    {
     "name": "stdout",
     "output_type": "stream",
     "text": [
      "5%%%%%%9 14!!!!!"
     ]
    }
   ],
   "source": [
    "a = 5\n",
    "b = 9\n",
    "print(a, end = '%%%%%%')\n",
    "print(b, end = ' ')\n",
    "print(a + b, end = '!!!!!')"
   ]
  },
  {
   "cell_type": "code",
   "execution_count": 26,
   "id": "506302ff-2264-4a7d-9462-a33eaf59287e",
   "metadata": {},
   "outputs": [
    {
     "name": "stdout",
     "output_type": "stream",
     "text": [
      "5!!!6\n"
     ]
    }
   ],
   "source": [
    "print(5, end  = '!!!') # end默认\\n换行符\n",
    "print(6)"
   ]
  },
  {
   "cell_type": "code",
   "execution_count": 27,
   "id": "e21b7b96-75ac-445d-92eb-2e3ee2370524",
   "metadata": {},
   "outputs": [
    {
     "name": "stdout",
     "output_type": "stream",
     "text": [
      "I'm a student.\n",
      "Я зарегистрировался в системе \"Истина\"\n",
      "Фильм \"Д'Артаньян и три мушкетёра\".\n"
     ]
    }
   ],
   "source": [
    "print(\"I'm a student.\")\n",
    "print('Я зарегистрировался в системе \"Истина\"')\n",
    "print(\"Фильм \\\"Д'Артаньян и три мушкетёра\\\".\")"
   ]
  },
  {
   "cell_type": "code",
   "execution_count": 28,
   "id": "517927cf-b2ed-4a7f-8035-8109f15cd523",
   "metadata": {},
   "outputs": [
    {
     "name": "stdin",
     "output_type": "stream",
     "text": [
      " 187\n"
     ]
    },
    {
     "name": "stdout",
     "output_type": "stream",
     "text": [
      "68.5\n",
      "<class 'float'>\n"
     ]
    }
   ],
   "source": [
    "h = int(input()) \n",
    "w  = (h - 100) - (h-150) / 2\n",
    "print(w)\n",
    "print(type(w))"
   ]
  },
  {
   "cell_type": "code",
   "execution_count": 29,
   "id": "464a941e-48a8-43cf-adc1-af0885307e7b",
   "metadata": {},
   "outputs": [
    {
     "name": "stdin",
     "output_type": "stream",
     "text": [
      " 11\n"
     ]
    },
    {
     "name": "stdout",
     "output_type": "stream",
     "text": [
      "-19.5\n",
      "<class 'float'>\n"
     ]
    }
   ],
   "source": [
    "h = int(input()) \n",
    "w  = (h - 100) - (h-150) / 2\n",
    "print(w)\n",
    "print(type(w))"
   ]
  },
  {
   "cell_type": "code",
   "execution_count": 30,
   "id": "c5eac431-04ec-4ccf-b40c-9150a0df4123",
   "metadata": {},
   "outputs": [
    {
     "data": {
      "text/plain": [
       "567.0"
      ]
     },
     "execution_count": 30,
     "metadata": {},
     "output_type": "execute_result"
    }
   ],
   "source": [
    "float('567') # 强制类型转换"
   ]
  },
  {
   "cell_type": "code",
   "execution_count": 32,
   "id": "9a7c1e6d-7a7d-44a8-be48-6b0f72e49380",
   "metadata": {},
   "outputs": [
    {
     "name": "stdin",
     "output_type": "stream",
     "text": [
      " 10\n"
     ]
    },
    {
     "name": "stdout",
     "output_type": "stream",
     "text": [
      "-20.0\n"
     ]
    }
   ],
   "source": [
    "# формула идеального веса \n",
    "h = int(input())\n",
    "w = (h - 100) - (h - 150) / 2\n",
    "print(w)"
   ]
  },
  {
   "cell_type": "code",
   "execution_count": null,
   "id": "37697477-e739-474e-9405-e480f62b4e24",
   "metadata": {},
   "outputs": [],
   "source": []
  }
 ],
 "metadata": {
  "kernelspec": {
   "display_name": "Python 3 (ipykernel)",
   "language": "python",
   "name": "python3"
  },
  "language_info": {
   "codemirror_mode": {
    "name": "ipython",
    "version": 3
   },
   "file_extension": ".py",
   "mimetype": "text/x-python",
   "name": "python",
   "nbconvert_exporter": "python",
   "pygments_lexer": "ipython3",
   "version": "3.9.12"
  }
 },
 "nbformat": 4,
 "nbformat_minor": 5
}
