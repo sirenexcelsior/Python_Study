{
 "cells": [
  {
   "cell_type": "code",
   "execution_count": 1,
   "id": "8bda7a03-4cc4-457b-958d-cf7cf2de7716",
   "metadata": {},
   "outputs": [
    {
     "name": "stderr",
     "output_type": "stream",
     "text": [
      "--2022-10-22 17:40:39--  https://drive.google.com/uc?id=1_Yswbqzh2iepBCCY5KFas-F0u4bRYVuT&export=download\n",
      "Resolving drive.google.com (drive.google.com)... 64.233.165.194, 2a00:1450:4010:c08::c2\n",
      "Connecting to drive.google.com (drive.google.com)|64.233.165.194|:443... connected.\n",
      "HTTP request sent, awaiting response... 303 See Other\n",
      "Location: https://doc-10-1g-docs.googleusercontent.com/docs/securesc/ha0ro937gcuc7l7deffksulhg5h7mbp1/il5h4jtvtlbafhnmtab7i6q6sl8qsqok/1666449600000/05476118052512889131/*/1_Yswbqzh2iepBCCY5KFas-F0u4bRYVuT?e=download&uuid=7448713e-047a-4e01-8712-f7e25ddfef80 [following]\n",
      "Warning: wildcards not supported in HTTP.\n",
      "--2022-10-22 17:40:40--  https://doc-10-1g-docs.googleusercontent.com/docs/securesc/ha0ro937gcuc7l7deffksulhg5h7mbp1/il5h4jtvtlbafhnmtab7i6q6sl8qsqok/1666449600000/05476118052512889131/*/1_Yswbqzh2iepBCCY5KFas-F0u4bRYVuT?e=download&uuid=7448713e-047a-4e01-8712-f7e25ddfef80\n",
      "Resolving doc-10-1g-docs.googleusercontent.com (doc-10-1g-docs.googleusercontent.com)... 108.177.14.132, 2a00:1450:4010:c0f::84\n",
      "Connecting to doc-10-1g-docs.googleusercontent.com (doc-10-1g-docs.googleusercontent.com)|108.177.14.132|:443... connected.\n",
      "HTTP request sent, awaiting response... 200 OK\n",
      "Length: 3436 (3.4K) [text/csv]\n",
      "Saving to: 'marks.csv'\n",
      "\n",
      "     0K ...                                                   100% 2.46M=0.001s\n",
      "\n",
      "2022-10-22 17:40:40 (2.46 MB/s) - 'marks.csv' saved [3436/3436]\n",
      "\n"
     ]
    }
   ],
   "source": [
    "! wget -O \"marks.csv\" \"https://drive.google.com/uc?id=1_Yswbqzh2iepBCCY5KFas-F0u4bRYVuT&export=download\""
   ]
  },
  {
   "cell_type": "code",
   "execution_count": 2,
   "id": "2ddafb7c-9c92-46a5-9f67-103d11a9de8f",
   "metadata": {},
   "outputs": [
    {
     "name": "stdout",
     "output_type": "stream",
     "text": [
      "袩袝孝袪 袗袧袛袪械械袙\n",
      "袩械孝褉 袩邪袙械袥鞋袝胁\n",
      "袩械孝袪 袩袗袙袝谢褜械胁\n",
      "袗袧写袪械袡 袩邪袙械袥褜袝胁\n",
      "袩邪袙袝袥 袝谐芯袪袨胁\n",
      "袗袧袗褋孝袗褋袠褟 袗薪袛袪械袝胁袗\n",
      "袗袥袠袧邪 袗袧写袪袝械袙邪\n",
      "袗袧邪小孝袗褋懈携 袩袝褌褉芯袙邪\n",
      "袩芯谢袠袧邪 小袝袦衼薪芯袙邪\n",
      "小械褉袚袝袡 小械褉袚械械袙\n",
      "袦邪袪懈褟 小械屑衼薪芯袙袗\n",
      "袩芯谢袠薪邪 小械屑衼薪袨胁袗\n",
      "袩袝孝袪 袩械褌褉袨袙\n",
      "袠袙邪薪 袩械褌袪芯胁\n",
      "袩袨谢懈薪袗 袩袝孝袪袨胁袗\n",
      "小袝袦褢薪 小械褉袚械袝袙\n",
      "袩邪胁械袥 袗薪袛袪袝械胁\n",
      "袠袙邪袧 袩袝孝袪袨胁\n",
      "袩邪胁袝袥 袩袝孝褉芯袙\n",
      "小械褉袚袝袡 袝袚袨袪袨胁\n",
      "袝袣邪孝袝袪袠袧邪 小械袦衼袧芯袙袗\n",
      "袝泻袗孝械褉懈薪邪 袩袝褌袪芯胁袗\n",
      "袦袗袪懈褟 小袝褉谐袝械袙袗\n",
      "袗薪邪小褌袗褋懈携 袩袗袙袝袥褜械胁邪\n",
      "袦邪褉懈携 袠袙邪袧芯袙袗\n",
      "小袝褉袚袝泄 袗袧袛袪械械袙\n",
      "袦袗袪袠携 小袝屑褢薪芯袙袗\n",
      "袝泻邪褌袝褉袠薪邪 小械袪谐袝袝袙邪\n",
      "袗谢袠袧邪 小械袦褢袧芯胁袗\n",
      "袦袗褉懈携 袝袚芯袪袨胁邪\n",
      "袗谢袠袧邪 小袝袪袚械械胁邪\n",
      "袗袥袠袧邪 小袝屑褢薪芯袙袗\n",
      "袗薪袗褋褌邪小袠携 袩袝孝褉芯袙邪\n",
      "小械屑褢薪 小袝袦衼薪芯袙\n",
      "袦邪褉懈携 小械褉袚械械胁袗\n",
      "袦邪褉袠携 袠袙邪袧袨袙邪\n",
      "袠袙邪袧 小械袦褢薪芯袙\n",
      "袝泻邪褌袝褉懈袧袗 袠袙邪袧芯袙邪\n",
      "小械袦衼袧 小袝褉袚械械胁\n",
      "袗薪袗小褌袗小袠褟 袠胁袗袧芯胁袗\n",
      "袩械孝袪 袠袙袗袧袨胁\n",
      "小械褉袚械泄 袩袝孝袪芯袙\n",
      "袗袧邪褋褌袗褋袠携 袠胁袗薪芯袙袗\n",
      "袩袗胁械谢 袩袗袙械谢鞋袝胁\n",
      "袗袧袗小褌邪小袠携 小械褉谐袝械胁邪\n",
      "袝袚袨褉 小袝屑褢薪袨胁\n",
      "小袝褉袚械袡 小械袦褢薪芯袙\n",
      "袠袙邪袧 小袝屑褢袧芯袙\n",
      "袝袣邪孝袝袪袠薪袗 袠胁邪袧袨胁邪\n",
      "小袝袦褢袧 袝谐袨褉袨袙\n",
      "袝袣邪褌械袪袠薪邪 袝袚袨褉袨胁袗\n",
      "袗薪邪褋孝邪褋袠褟 小袝袪谐袝袝胁袗\n",
      "袗薪袗褋褌邪褋袠携 袩械孝袪芯袙袗\n",
      "袝袚袨袪 袝谐袨袪袨胁\n",
      "袩袨袥袠袧邪 小械袦衼袧袨胁邪\n",
      "袩袗袙袝袥 袩邪袙袝袥褜械袙\n",
      "袗谢袠袧袗 袩邪袙械袥褜械袙袗\n",
      "小械屑褢袧 小械袦衼袧芯胁\n",
      "袠胁邪袧 袗薪写褉袝袝袙\n",
      "袩邪袙袝袥 袠袙邪薪芯袙\n",
      "小械褉谐袝袡 袝谐袨袪芯袙\n",
      "小袝褉袚袝袡 袝袚袨褉袨胁\n",
      "袗薪邪褋褌袗褋袠褟 袗薪袛褉袝械胁邪\n",
      "袝袣邪褌械袪袠袧袗 袝谐芯褉芯胁邪\n",
      "小袝屑褢薪 袝谐芯袪袨袙\n",
      "袠胁邪薪 小袝袦衼薪芯袙\n",
      "袩袝孝袪 小械褉袚械袝袙\n",
      "袗袧袛褉袝泄 袝袚芯袪芯袙\n",
      "袦袗袪懈携 袩袗袙械谢鞋械胁邪\n",
      "袗袧邪褋褌邪褋袠携 袩邪袙械谢褜袝胁袗\n",
      "袗袧袗小褌邪褋袠褟 小袝袪袚袝械胁袗\n",
      "袩袨袥袠薪邪 袗袧袛袪械械袙邪\n",
      "袗薪邪褋褌邪褋懈褟 袝袚芯褉芯胁邪\n",
      "袗袥袠袧邪 小袝褉袚械袝胁袗\n",
      "袗薪邪褋孝邪褋懈褟 小袝褉袚袝袝胁袗\n",
      "袗谢懈薪邪 小袝屑衼薪芯袙袗\n",
      "袗袧袛褉袝泄 袩袝孝褉芯袙\n",
      "袝泻邪褌械褉懈袧袗 小械袪谐械袝袙邪\n",
      "袝袚芯褉 小袝褉谐袝械胁\n",
      "袗袧写褉袝袡 袗薪袛袪械械袙\n",
      "袠袙邪袧 袗袧袛褉袝袝袙\n",
      "袝谐袨褉 小械屑衼薪芯胁\n",
      "袗袥袠袧邪 袩袗袙袝袥褜袝袙袗\n",
      "小袝褉袚械袡 袠胁邪袧芯袙\n",
      "袝袣邪孝械袪懈薪袗 袝袚芯袪袨胁邪\n",
      "袩袝褌袪 袩械孝褉芯袙\n",
      "小袝袦衼薪 袠袙袗袧芯袙\n",
      "袝袚袨褉 小械屑衼袧袨胁\n",
      "袗袥袠袧邪 袝袚袨褉袨胁袗\n",
      "袗薪袗褋孝邪褋袠褟 袠胁邪薪袨胁邪\n",
      "小袝褉谐袝泄 袠袙邪袧芯袙\n",
      "袦袗袪袠褟 袩械孝袪袨袙袗\n",
      "袠胁邪袧 袩袝孝袪芯胁\n",
      "袦邪褉懈褟 袝袚芯褉芯胁邪\n",
      "袩械褌袪 袠袙袗薪芯胁\n",
      "袗薪邪小孝邪褋懈携 袝袚袨袪袨袙袗\n",
      "袦袗褉懈褟 袩械孝袪袨袙邪\n",
      "袗薪袗褋褌袗褋袠携 小械袪袚械袝胁袗\n",
      "袗谢懈袧邪 小袝袦衼袧袨胁袗\n",
      "袠胁邪薪 袗薪袛褉械械胁\n"
     ]
    }
   ],
   "source": [
    "with open('names.txt', 'r') as f:\n",
    "    print(f.read())"
   ]
  },
  {
   "cell_type": "code",
   "execution_count": 4,
   "id": "af4f47b8-6a4e-468b-b7c2-0131dee9a736",
   "metadata": {},
   "outputs": [
    {
     "data": {
      "text/plain": [
       "'Анастасия Иванова'"
      ]
     },
     "execution_count": 4,
     "metadata": {},
     "output_type": "execute_result"
    }
   ],
   "source": [
    "s = 'АНастАсИЯ ИвАноВА'\n",
    "s.title() # 返回\"标题化\"的字符串,就是说所有单词都是以大写开始"
   ]
  },
  {
   "cell_type": "code",
   "execution_count": 5,
   "id": "97f4cccb-25d3-405c-8e34-511fcc3d70a8",
   "metadata": {},
   "outputs": [],
   "source": [
    "with open('names.txt', 'r') as f1, open('names_new.txt', 'w') as f2:\n",
    "      for line in f1:\n",
    "        f2.write(line.title())"
   ]
  }
 ],
 "metadata": {
  "kernelspec": {
   "display_name": "Python 3 (ipykernel)",
   "language": "python",
   "name": "python3"
  },
  "language_info": {
   "codemirror_mode": {
    "name": "ipython",
    "version": 3
   },
   "file_extension": ".py",
   "mimetype": "text/x-python",
   "name": "python",
   "nbconvert_exporter": "python",
   "pygments_lexer": "ipython3",
   "version": "3.9.12"
  }
 },
 "nbformat": 4,
 "nbformat_minor": 5
}
