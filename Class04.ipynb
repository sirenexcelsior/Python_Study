{
 "cells": [
  {
   "cell_type": "code",
   "execution_count": 1,
   "id": "58c64593-594d-47bc-8943-8fcfb338fc59",
   "metadata": {},
   "outputs": [
    {
     "name": "stdin",
     "output_type": "stream",
     "text": [
      "Введите имя:  Саша\n",
      "ДЗ:  100\n",
      "Посещение занятий:  10\n",
      "Тест:  12\n"
     ]
    },
    {
     "name": "stdout",
     "output_type": "stream",
     "text": [
      "Саша:зачет\n"
     ]
    }
   ],
   "source": [
    "name = input(\"Введите имя: \")\n",
    "h = int(input(\"ДЗ: \"))\n",
    "c = int(input(\"Посещение занятий: \"))\n",
    "t = int(input(\"Тест: \"))\n",
    "\n",
    "if (h >= 80 and c >= 10) or t >= 12:\n",
    "    print(name, 'зачет', sep = ':')\n",
    "else:\n",
    "    print(name, 'нз', sep = ':')"
   ]
  },
  {
   "cell_type": "code",
   "execution_count": 3,
   "id": "17a642dc-0465-4a4c-84ea-89ecb8e9e0ad",
   "metadata": {},
   "outputs": [
    {
     "name": "stdout",
     "output_type": "stream",
     "text": [
      "True\n",
      "True\n",
      "False\n"
     ]
    }
   ],
   "source": [
    "print(True or True)\n",
    "print(True or False)\n",
    "print(False or False)"
   ]
  },
  {
   "cell_type": "code",
   "execution_count": 4,
   "id": "d49551c0-91b1-4323-98f3-cde23d4fc333",
   "metadata": {},
   "outputs": [
    {
     "name": "stdin",
     "output_type": "stream",
     "text": [
      "Введите имя:  Саша\n",
      "ДЗ:  100\n",
      "Посещение занятий:  30\n",
      "Тест:  100\n"
     ]
    }
   ],
   "source": [
    "name = input(\"Введите имя: \")\n",
    "h = int(input(\"ДЗ: \"))\n",
    "c = int(input(\"Посещение занятий: \"))\n",
    "t = int(input(\"Тест: \"))\n",
    "\n",
    "if not ((h >= 80 and c >= 10) or t >= 12):\n",
    "    pass"
   ]
  },
  {
   "cell_type": "code",
   "execution_count": 5,
   "id": "c0cbec9f-67e0-4746-9d26-a56333715233",
   "metadata": {},
   "outputs": [
    {
     "name": "stdout",
     "output_type": "stream",
     "text": [
      "Добрый день!\n",
      "Добрый день!\n",
      "Добрый день!\n",
      "Добрый день!\n",
      "Добрый день!\n",
      "Добрый день!\n",
      "Добрый день!\n",
      "Добрый день!\n",
      "Добрый день!\n",
      "Добрый день!\n",
      "Добрый день!\n",
      "Добрый день!\n",
      "Добрый день!\n",
      "Добрый день!\n",
      "Добрый день!\n"
     ]
    }
   ],
   "source": [
    "i = 0\n",
    "while i < 15:\n",
    "    print('Добрый день!')\n",
    "    i = i + 1"
   ]
  },
  {
   "cell_type": "code",
   "execution_count": 6,
   "id": "07c33553-b29c-4f6f-b9f3-4952db2d470e",
   "metadata": {},
   "outputs": [
    {
     "name": "stdout",
     "output_type": "stream",
     "text": [
      "1\n",
      "2\n",
      "3\n",
      "4\n",
      "5\n",
      "6\n",
      "7\n",
      "8\n",
      "9\n",
      "10\n",
      "11\n",
      "12\n",
      "13\n",
      "14\n",
      "15\n"
     ]
    }
   ],
   "source": [
    "i = 1\n",
    "while i < 16:\n",
    "    print(i)\n",
    "    i += 1"
   ]
  },
  {
   "cell_type": "code",
   "execution_count": 9,
   "id": "c8931c66-46ba-4aff-8f60-56dacf782f58",
   "metadata": {},
   "outputs": [
    {
     "name": "stdout",
     "output_type": "stream",
     "text": [
      "0\n"
     ]
    }
   ],
   "source": [
    "x = 0\n",
    "while x > 0:\n",
    "    print(x)\n",
    "    x += 1\n",
    "print(x)"
   ]
  }
 ],
 "metadata": {
  "kernelspec": {
   "display_name": "Python 3 (ipykernel)",
   "language": "python",
   "name": "python3"
  },
  "language_info": {
   "codemirror_mode": {
    "name": "ipython",
    "version": 3
   },
   "file_extension": ".py",
   "mimetype": "text/x-python",
   "name": "python",
   "nbconvert_exporter": "python",
   "pygments_lexer": "ipython3",
   "version": "3.9.12"
  }
 },
 "nbformat": 4,
 "nbformat_minor": 5
}
