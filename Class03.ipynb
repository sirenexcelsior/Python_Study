{
 "cells": [
  {
   "cell_type": "code",
   "execution_count": 1,
   "id": "949aa9fb-5565-44d6-a704-231b3eb1691f",
   "metadata": {},
   "outputs": [],
   "source": [
    "# Логический тип данных и условные конструкции\n",
    "# 逻辑数据类型和条件构造"
   ]
  },
  {
   "cell_type": "code",
   "execution_count": 2,
   "id": "be50d095-88f0-4593-ab3d-9e0828df5382",
   "metadata": {},
   "outputs": [
    {
     "name": "stdin",
     "output_type": "stream",
     "text": [
      " 25\n"
     ]
    },
    {
     "name": "stdout",
     "output_type": "stream",
     "text": [
      "True\n",
      "True\n"
     ]
    }
   ],
   "source": [
    "t = int(input()) \n",
    "# 24 до 28\n",
    "# Купаться можно - True \n",
    "# Купаться нельзя - False\n",
    "print(t >= 24 and t <= 28)\n",
    "print(24 <= t <= 28)"
   ]
  },
  {
   "cell_type": "code",
   "execution_count": 3,
   "id": "8ce05d9c-f39b-4d2b-be15-8de1384db495",
   "metadata": {},
   "outputs": [
    {
     "name": "stdin",
     "output_type": "stream",
     "text": [
      " 100\n"
     ]
    },
    {
     "name": "stdout",
     "output_type": "stream",
     "text": [
      "Горячая вода\n"
     ]
    }
   ],
   "source": [
    "t = int(input())\n",
    "if t >= 24 and t <= 28:\n",
    "    print('Купаться можно!')\n",
    "elif t < 24:\n",
    "    print('Холодная вода')\n",
    "else:\n",
    "    print('Горячая вода')"
   ]
  }
 ],
 "metadata": {
  "kernelspec": {
   "display_name": "Python 3 (ipykernel)",
   "language": "python",
   "name": "python3"
  },
  "language_info": {
   "codemirror_mode": {
    "name": "ipython",
    "version": 3
   },
   "file_extension": ".py",
   "mimetype": "text/x-python",
   "name": "python",
   "nbconvert_exporter": "python",
   "pygments_lexer": "ipython3",
   "version": "3.9.12"
  }
 },
 "nbformat": 4,
 "nbformat_minor": 5
}
