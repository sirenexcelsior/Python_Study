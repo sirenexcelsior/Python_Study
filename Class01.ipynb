{
 "cells": [
  {
   "cell_type": "code",
   "execution_count": 1,
   "id": "ff9f758c-eb93-4943-a7e3-81d8bb5aa417",
   "metadata": {},
   "outputs": [
    {
     "data": {
      "text/plain": [
       "8386540534.8"
      ]
     },
     "execution_count": 1,
     "metadata": {},
     "output_type": "execute_result"
    }
   ],
   "source": [
    "14568*575679-67980+576879/5+1467"
   ]
  },
  {
   "cell_type": "code",
   "execution_count": 3,
   "id": "04f868c0-5b80-4ca5-a857-1ec862da949a",
   "metadata": {},
   "outputs": [
    {
     "name": "stderr",
     "output_type": "stream",
     "text": [
      "--2022-10-21 12:59:41--  https://drive.google.com/uc?id=1-KVoL24W8uXE7lAkrNLuzs5lutmkUJwU&export=download\n",
      "Resolving drive.google.com (drive.google.com)... 142.251.1.194, 2a00:1450:4010:c1e::c2\n",
      "Connecting to drive.google.com (drive.google.com)|142.251.1.194|:443... connected.\n",
      "HTTP request sent, awaiting response... 303 See Other\n",
      "Location: https://doc-10-1g-docs.googleusercontent.com/docs/securesc/ha0ro937gcuc7l7deffksulhg5h7mbp1/80ug15utrcenccndsmt4aqfboa4bp5pe/1666346325000/05476118052512889131/*/1-KVoL24W8uXE7lAkrNLuzs5lutmkUJwU?e=download&uuid=42ebb9c1-a365-484b-8928-fd8773bc6989 [following]\n",
      "Warning: wildcards not supported in HTTP.\n",
      "--2022-10-21 12:59:42--  https://doc-10-1g-docs.googleusercontent.com/docs/securesc/ha0ro937gcuc7l7deffksulhg5h7mbp1/80ug15utrcenccndsmt4aqfboa4bp5pe/1666346325000/05476118052512889131/*/1-KVoL24W8uXE7lAkrNLuzs5lutmkUJwU?e=download&uuid=42ebb9c1-a365-484b-8928-fd8773bc6989\n",
      "Resolving doc-10-1g-docs.googleusercontent.com (doc-10-1g-docs.googleusercontent.com)... 74.125.131.132, 2a00:1450:4010:c0e::84\n",
      "Connecting to doc-10-1g-docs.googleusercontent.com (doc-10-1g-docs.googleusercontent.com)|74.125.131.132|:443... connected.\n",
      "HTTP request sent, awaiting response... 200 OK\n",
      "Length: 2835 (2.8K) [text/plain]\n",
      "Saving to: './names.txt'\n",
      "\n",
      "     0K ..                                                    100% 1.97M=0.001s\n",
      "\n",
      "2022-10-21 12:59:42 (1.97 MB/s) - './names.txt' saved [2835/2835]\n",
      "\n"
     ]
    }
   ],
   "source": [
    "!wget -O ./names.txt \"https://drive.google.com/uc?id=1-KVoL24W8uXE7lAkrNLuzs5lutmkUJwU&export=download\""
   ]
  },
  {
   "cell_type": "code",
   "execution_count": 5,
   "id": "779e7ced-c71c-40d8-88b9-4a8bed526c46",
   "metadata": {},
   "outputs": [],
   "source": [
    "with open(\"names.txt\", \"r\") as f: \n",
    "    with open(\"names_new.txt\", \"w\") as f2: \n",
    "        for line in f:\n",
    "            f2.write(line.title())"
   ]
  }
 ],
 "metadata": {
  "kernelspec": {
   "display_name": "Python 3 (ipykernel)",
   "language": "python",
   "name": "python3"
  },
  "language_info": {
   "codemirror_mode": {
    "name": "ipython",
    "version": 3
   },
   "file_extension": ".py",
   "mimetype": "text/x-python",
   "name": "python",
   "nbconvert_exporter": "python",
   "pygments_lexer": "ipython3",
   "version": "3.9.12"
  }
 },
 "nbformat": 4,
 "nbformat_minor": 5
}
