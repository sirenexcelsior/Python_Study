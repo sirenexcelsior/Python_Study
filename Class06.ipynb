{
 "cells": [
  {
   "cell_type": "code",
   "execution_count": 1,
   "id": "b24de9c7-7211-4920-90d2-ee5fa43645e6",
   "metadata": {},
   "outputs": [
    {
     "name": "stdout",
     "output_type": "stream",
     "text": [
      "6.454545454545454\n"
     ]
    }
   ],
   "source": [
    "marks = [5, 6, 5, 6, 7, 8, 12, 3, 4, 5, 10]\n",
    "\n",
    "avg = sum(marks)/len(marks)\n",
    "print(avg)"
   ]
  },
  {
   "cell_type": "code",
   "execution_count": 2,
   "id": "5f7c82b6-ff36-4a47-99d9-900269ad31aa",
   "metadata": {},
   "outputs": [
    {
     "name": "stdout",
     "output_type": "stream",
     "text": [
      "Максимальная цена:  12\n",
      "Минимальная цена:  3\n"
     ]
    }
   ],
   "source": [
    "print('Максимальная цена: ', max(marks))\n",
    "print('Минимальная цена: ', min(marks))"
   ]
  },
  {
   "cell_type": "code",
   "execution_count": 3,
   "id": "073f75a0-cc79-49dc-8443-6c93b164c73b",
   "metadata": {},
   "outputs": [
    {
     "data": {
      "text/plain": [
       "[6, 5, 6]"
      ]
     },
     "execution_count": 3,
     "metadata": {},
     "output_type": "execute_result"
    }
   ],
   "source": [
    "marks[1:4]"
   ]
  },
  {
   "cell_type": "code",
   "execution_count": 4,
   "id": "5e809b56-13f5-40d9-8821-917375a1068d",
   "metadata": {},
   "outputs": [
    {
     "data": {
      "text/plain": [
       "[5, 6, 5, 6]"
      ]
     },
     "execution_count": 4,
     "metadata": {},
     "output_type": "execute_result"
    }
   ],
   "source": [
    "marks[:4]"
   ]
  },
  {
   "cell_type": "code",
   "execution_count": 5,
   "id": "eed175d4-e39e-47a5-bded-9be9b56da252",
   "metadata": {},
   "outputs": [
    {
     "data": {
      "text/plain": [
       "[5, 6, 5, 6]"
      ]
     },
     "execution_count": 5,
     "metadata": {},
     "output_type": "execute_result"
    }
   ],
   "source": [
    "marks[0:4]"
   ]
  },
  {
   "cell_type": "code",
   "execution_count": 6,
   "id": "85372fb4-da80-400c-a3a1-74e3e01df79d",
   "metadata": {},
   "outputs": [
    {
     "data": {
      "text/plain": [
       "[7, 8, 12, 3, 4, 5, 10]"
      ]
     },
     "execution_count": 6,
     "metadata": {},
     "output_type": "execute_result"
    }
   ],
   "source": [
    "marks[4:]"
   ]
  },
  {
   "cell_type": "code",
   "execution_count": 7,
   "id": "06d1ec4b-dac7-4ca8-9806-0d5c019e6afb",
   "metadata": {},
   "outputs": [
    {
     "data": {
      "text/plain": [
       "[7, 8, 12, 3, 4]"
      ]
     },
     "execution_count": 7,
     "metadata": {},
     "output_type": "execute_result"
    }
   ],
   "source": [
    "marks[4:9]"
   ]
  },
  {
   "cell_type": "code",
   "execution_count": 11,
   "id": "d1f40482-019f-4a2b-8bf6-da6aba3d6e2b",
   "metadata": {},
   "outputs": [
    {
     "data": {
      "text/plain": [
       "True"
      ]
     },
     "execution_count": 11,
     "metadata": {},
     "output_type": "execute_result"
    }
   ],
   "source": [
    "marks[-1] == marks[len(marks)-1]"
   ]
  },
  {
   "cell_type": "code",
   "execution_count": 12,
   "id": "f8cb699b-f264-4b04-89b7-7558e879087d",
   "metadata": {},
   "outputs": [
    {
     "data": {
      "text/plain": [
       "[5, 6, 7, 8, 12, 3, 4, 5]"
      ]
     },
     "execution_count": 12,
     "metadata": {},
     "output_type": "execute_result"
    }
   ],
   "source": [
    "marks[-9:-1]"
   ]
  },
  {
   "cell_type": "code",
   "execution_count": 13,
   "id": "72c16b07-c2cd-45b6-b291-3a478458f817",
   "metadata": {},
   "outputs": [
    {
     "data": {
      "text/plain": [
       "True"
      ]
     },
     "execution_count": 13,
     "metadata": {},
     "output_type": "execute_result"
    }
   ],
   "source": [
    "marks[-2] == marks[len(marks)-2]"
   ]
  },
  {
   "cell_type": "code",
   "execution_count": 16,
   "id": "83887a87-ee48-4c51-820e-3a4a0b4751f8",
   "metadata": {},
   "outputs": [
    {
     "data": {
      "text/plain": [
       "[6, 6, 8, 3]"
      ]
     },
     "execution_count": 16,
     "metadata": {},
     "output_type": "execute_result"
    }
   ],
   "source": [
    "marks[1:8:2]"
   ]
  },
  {
   "cell_type": "code",
   "execution_count": 18,
   "id": "5a054a0f-5b0f-4885-928c-0ceb6aaf74a4",
   "metadata": {},
   "outputs": [
    {
     "data": {
      "text/plain": [
       "[1, 3, 5, 7, 9]"
      ]
     },
     "execution_count": 18,
     "metadata": {},
     "output_type": "execute_result"
    }
   ],
   "source": [
    "A = [1, 2, 3, 4, 5, 6, 7, 8, 9, 10]\n",
    "A[0:10:2] #[m,n,k]"
   ]
  },
  {
   "cell_type": "code",
   "execution_count": 19,
   "id": "01f052d0-a23e-4f7a-a2f3-b8a500875765",
   "metadata": {},
   "outputs": [
    {
     "data": {
      "text/plain": [
       "[9, 8, 7, 6, 5, 4, 3]"
      ]
     },
     "execution_count": 19,
     "metadata": {},
     "output_type": "execute_result"
    }
   ],
   "source": [
    "A[8:1:-1]"
   ]
  },
  {
   "cell_type": "code",
   "execution_count": 20,
   "id": "37a37d08-0784-4632-ba86-7fb2a842b810",
   "metadata": {},
   "outputs": [
    {
     "data": {
      "text/plain": [
       "[10, 9, 8, 7, 6, 5, 4, 3, 2, 1]"
      ]
     },
     "execution_count": 20,
     "metadata": {},
     "output_type": "execute_result"
    }
   ],
   "source": [
    "A[::-1]"
   ]
  },
  {
   "cell_type": "code",
   "execution_count": 21,
   "id": "5b344f45-83e5-491a-b13d-62ed077ca707",
   "metadata": {},
   "outputs": [
    {
     "data": {
      "text/plain": [
       "['a', 'b', 'c', 'd', 'e']"
      ]
     },
     "execution_count": 21,
     "metadata": {},
     "output_type": "execute_result"
    }
   ],
   "source": [
    "['a', 'b', 'c'] + ['d', 'e']"
   ]
  },
  {
   "cell_type": "code",
   "execution_count": 22,
   "id": "71f1b689-40d4-47a3-80c0-0ccc4b1beb48",
   "metadata": {},
   "outputs": [
    {
     "data": {
      "text/plain": [
       "['a', 'b', 'c', 'a', 'b', 'c', 'a', 'b', 'c']"
      ]
     },
     "execution_count": 22,
     "metadata": {},
     "output_type": "execute_result"
    }
   ],
   "source": [
    "['a', 'b', 'c']*3"
   ]
  },
  {
   "cell_type": "code",
   "execution_count": 29,
   "id": "7a791963-f2ef-4fbc-84ff-c3686b1d1761",
   "metadata": {},
   "outputs": [
    {
     "data": {
      "text/plain": [
       "[1, 2, 0, 3, 4, 5]"
      ]
     },
     "execution_count": 29,
     "metadata": {},
     "output_type": "execute_result"
    }
   ],
   "source": [
    "A = [1, 2, 3, 4, 5]\n",
    "A.insert(2, 0)\n",
    "A"
   ]
  },
  {
   "cell_type": "code",
   "execution_count": 30,
   "id": "23dcda5f-0d6b-42fc-9ddb-84cb4df19118",
   "metadata": {},
   "outputs": [
    {
     "data": {
      "text/plain": [
       "[0, 1, 2, 0, 3, 4, 5]"
      ]
     },
     "execution_count": 30,
     "metadata": {},
     "output_type": "execute_result"
    }
   ],
   "source": [
    "A.insert(0, 0)\n",
    "A"
   ]
  },
  {
   "cell_type": "code",
   "execution_count": 31,
   "id": "780712cd-0b0b-453f-9a1b-c19c67b9ae18",
   "metadata": {},
   "outputs": [
    {
     "data": {
      "text/plain": [
       "[0, 1, 2, 0, 3, 4, 5, 0]"
      ]
     },
     "execution_count": 31,
     "metadata": {},
     "output_type": "execute_result"
    }
   ],
   "source": [
    "A.append(0)\n",
    "A"
   ]
  },
  {
   "cell_type": "code",
   "execution_count": 32,
   "id": "737b1808-4337-451a-add7-42410ac0bc3a",
   "metadata": {},
   "outputs": [
    {
     "data": {
      "text/plain": [
       "[0, 1, 2, 0, 3, 4, 5, 0, 0, 0, 0]"
      ]
     },
     "execution_count": 32,
     "metadata": {},
     "output_type": "execute_result"
    }
   ],
   "source": [
    "A.extend([0, 0, 0])\n",
    "A"
   ]
  },
  {
   "cell_type": "code",
   "execution_count": 33,
   "id": "febaa522-f0f1-4357-aab3-318ad163637b",
   "metadata": {},
   "outputs": [
    {
     "data": {
      "text/plain": [
       "[0, 1, 2, 3, 4, 5, 0, 0, 0]"
      ]
     },
     "execution_count": 33,
     "metadata": {},
     "output_type": "execute_result"
    }
   ],
   "source": [
    "A = [0, 1, 2, 3, 4, 5]\n",
    "A += [0, 0, 0]\n",
    "A"
   ]
  },
  {
   "cell_type": "code",
   "execution_count": 34,
   "id": "26fa0d8f-7520-446c-a4aa-737714ed3724",
   "metadata": {},
   "outputs": [
    {
     "data": {
      "text/plain": [
       "[1, 2, 3, 4]"
      ]
     },
     "execution_count": 34,
     "metadata": {},
     "output_type": "execute_result"
    }
   ],
   "source": [
    "a = [1, 2, 3, 4, 5]\n",
    "a.pop()\n",
    "a"
   ]
  },
  {
   "cell_type": "code",
   "execution_count": 36,
   "id": "6f062983-da45-4849-9415-e77f5c4ada6d",
   "metadata": {},
   "outputs": [
    {
     "data": {
      "text/plain": [
       "[1, 2]"
      ]
     },
     "execution_count": 36,
     "metadata": {},
     "output_type": "execute_result"
    }
   ],
   "source": [
    "a = [1, 2, 3, 4, 5]\n",
    "a.pop() # 删去最后一个元素\n",
    "a.pop()\n",
    "a.pop()\n",
    "a"
   ]
  },
  {
   "cell_type": "code",
   "execution_count": 37,
   "id": "3f32add8-63de-49c3-aa1d-dd2f45203c5e",
   "metadata": {},
   "outputs": [
    {
     "name": "stdout",
     "output_type": "stream",
     "text": [
      "[1, 2, 4, 5]\n",
      "[1, 2, 4, 5]\n"
     ]
    }
   ],
   "source": [
    "a = [1, 2, 3, 4, 5]\n",
    "a.pop(2)\n",
    "print(a)\n",
    "a = [1, 2, 3, 4, 5]\n",
    "del a[2]\n",
    "print(a)"
   ]
  },
  {
   "cell_type": "code",
   "execution_count": 38,
   "id": "730a8a43-c4a1-40f1-957a-7ea5725c85fe",
   "metadata": {},
   "outputs": [],
   "source": [
    "# функии и методы"
   ]
  },
  {
   "cell_type": "code",
   "execution_count": 39,
   "id": "0c06a1b0-4d5b-4102-80c8-09ef800405b2",
   "metadata": {},
   "outputs": [],
   "source": [
    "marks_string = '5 3 4 3 4 2 4 6 7 5 7'"
   ]
  },
  {
   "cell_type": "code",
   "execution_count": 40,
   "id": "df32d4c5-2059-447b-bce6-a169e041e377",
   "metadata": {},
   "outputs": [
    {
     "name": "stdout",
     "output_type": "stream",
     "text": [
      "['Кто', 'на', 'работает,', 'тот', 'не', 'ест!']\n",
      "<class 'list'>\n"
     ]
    }
   ],
   "source": [
    "s = 'Кто на работает, тот не ест!'\n",
    "a = s.split()\n",
    "print(a)\n",
    "print(type(a))"
   ]
  },
  {
   "cell_type": "code",
   "execution_count": 42,
   "id": "5f3f6bfc-5aae-43d9-bfec-a29c28d32314",
   "metadata": {},
   "outputs": [
    {
     "name": "stdout",
     "output_type": "stream",
     "text": [
      "['Кто на работает', ' тот не ест!']\n"
     ]
    }
   ],
   "source": [
    "print(s.split(',')) # 以,为分割符"
   ]
  },
  {
   "cell_type": "code",
   "execution_count": 45,
   "id": "72d1377a-24ad-4407-a582-a15c3862a6c2",
   "metadata": {},
   "outputs": [
    {
     "data": {
      "text/plain": [
       "['1', '2']"
      ]
     },
     "execution_count": 45,
     "metadata": {},
     "output_type": "execute_result"
    }
   ],
   "source": [
    "A = '1  2'\n",
    "A.split()"
   ]
  },
  {
   "cell_type": "code",
   "execution_count": 46,
   "id": "a707e959-4dfa-4200-b748-2fda057d43c6",
   "metadata": {},
   "outputs": [
    {
     "data": {
      "text/plain": [
       "['1', '', '2']"
      ]
     },
     "execution_count": 46,
     "metadata": {},
     "output_type": "execute_result"
    }
   ],
   "source": [
    "A.split(' ')"
   ]
  },
  {
   "cell_type": "code",
   "execution_count": 47,
   "id": "91832cea-46a3-46c2-9362-25c66d879096",
   "metadata": {},
   "outputs": [],
   "source": [
    "# Открываем файл "
   ]
  },
  {
   "cell_type": "code",
   "execution_count": null,
   "id": "9e57cfda-1dc3-4670-84af-274ba919d0ce",
   "metadata": {},
   "outputs": [],
   "source": []
  }
 ],
 "metadata": {
  "kernelspec": {
   "display_name": "Python 3 (ipykernel)",
   "language": "python",
   "name": "python3"
  },
  "language_info": {
   "codemirror_mode": {
    "name": "ipython",
    "version": 3
   },
   "file_extension": ".py",
   "mimetype": "text/x-python",
   "name": "python",
   "nbconvert_exporter": "python",
   "pygments_lexer": "ipython3",
   "version": "3.9.12"
  }
 },
 "nbformat": 4,
 "nbformat_minor": 5
}
